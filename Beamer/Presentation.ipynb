{
 "cells": [
  {
   "cell_type": "markdown",
   "metadata": {},
   "source": [
    "# Démonstration de ASLTAM"
   ]
  },
  {
   "cell_type": "markdown",
   "metadata": {},
   "source": [
    " "
   ]
  },
  {
   "cell_type": "markdown",
   "metadata": {},
   "source": [
    "Ce jupyter notebook est destiné à l'illustration de la présentation orale du package le 13 décembre 2021. Le code est tiré du fichier ``script.py`` disponible sur le git."
   ]
  },
  {
   "cell_type": "markdown",
   "metadata": {},
   "source": [
    "### On commence par installer tout ce dont on a besoin"
   ]
  },
  {
   "cell_type": "code",
   "execution_count": null,
   "metadata": {},
   "outputs": [],
   "source": [
    "pip install -r ../requirements.txt\n"
   ]
  },
  {
   "cell_type": "code",
   "execution_count": null,
   "metadata": {},
   "outputs": [],
   "source": [
    "pip install -i https://test.pypi.org/simple/ asltam==1.1.0\n"
   ]
  },
  {
   "cell_type": "markdown",
   "metadata": {},
   "source": [
    "### Importation du package et des données"
   ]
  },
  {
   "cell_type": "code",
   "execution_count": null,
   "metadata": {},
   "outputs": [],
   "source": [
    "import asltam as atm\n",
    "\n",
    "prix = atm.load_price().save_as_price(index=' ')\n",
    "dist = atm.load_dist().save_as_dist(index=' Nom gare ')\n",
    "geo = atm.load_geo().save_as_geo(index=' Nom gare ')\n",
    "geo = geo[['Latt', 'Long']]"
   ]
  },
  {
   "cell_type": "markdown",
   "metadata": {},
   "source": [
    "## Construction de la carte intéractive"
   ]
  },
  {
   "cell_type": "code",
   "execution_count": null,
   "metadata": {},
   "outputs": [],
   "source": [
    "from ipywidgets import interact, fixed\n",
    "\n",
    "interact(atm.trajet, DEPART=list(geo.index), ARRIVEE=list(geo.index),\n",
    "     data_geo=fixed(geo), data_price=fixed(prix), data_dist=fixed(dist), \n",
    "     KEY='5b3ce3597851110001cf62486f5564a064e34f3895221e5a0d9a2405')"
   ]
  },
  {
   "cell_type": "markdown",
   "metadata": {},
   "source": [
    "## Affichage des distributions avec ``interact``"
   ]
  },
  {
   "cell_type": "code",
   "execution_count": null,
   "metadata": {},
   "outputs": [],
   "source": [
    "from ipywidgets import interact, fixed\n",
    "\n",
    "interact(atm.kde_gare, all = True, data_dist = fixed(dist),\n",
    "         data_price = fixed(prix), start = prix.columns, \n",
    "         target = prix.columns, bw = (0.05,2,0.01))"
   ]
  },
  {
   "cell_type": "markdown",
   "metadata": {},
   "source": [
    "## Calcul des prix moyens"
   ]
  },
  {
   "cell_type": "code",
   "execution_count": null,
   "metadata": {},
   "outputs": [],
   "source": [
    "atm.mean_gare(prix)"
   ]
  },
  {
   "cell_type": "markdown",
   "metadata": {},
   "source": [
    "## Affichage du swarmplot"
   ]
  },
  {
   "cell_type": "markdown",
   "metadata": {},
   "source": [
    "On essaie d'afficher le swarmplot de gares avec des moyennes très differentes (calculées ci-dessus)."
   ]
  },
  {
   "cell_type": "code",
   "execution_count": null,
   "metadata": {},
   "outputs": [],
   "source": [
    "gare = ['MONTPELLIER', 'NAILLOUX', 'BRAM','NARBONNE SUD']\n",
    "atm.swarm_gare_price(prix, gare)"
   ]
  },
  {
   "cell_type": "markdown",
   "metadata": {},
   "source": [
    "## Recherche des trajets optimaux"
   ]
  },
  {
   "cell_type": "code",
   "execution_count": null,
   "metadata": {},
   "outputs": [],
   "source": [
    "start = input(f\"Donnez une gare de départ parmi les gares suivantes : {list(prix.index)}.\")\n",
    "target = input(f\"Donnez une gare d'arrivée parmi les gares suivantes : {list(prix.index)}.\")\n",
    "n = input(\"Rentrez le nombre de sortie que vous vous accordez :\")\n",
    "\n",
    "g, opt = atm.kmin_cost_out(data_dist=dist, data_price=prix,\n",
    "                          start = start, target = target, \n",
    "                          k = int(n))\n",
    "print(f\"Pour avoir le trajet optimal entre {g[0]} et {g[-1]},\\n\",\n",
    "    f\"il faut sortir à {g[1:-1]}. Le coût total sera de {round(opt, 3)}€\")"
   ]
  },
  {
   "cell_type": "markdown",
   "metadata": {},
   "source": [
    "## Une utilisation intelligente"
   ]
  },
  {
   "cell_type": "markdown",
   "metadata": {},
   "source": [
    "On va chercher à afficher les sorties pour le trajet optimal sur une carte."
   ]
  },
  {
   "cell_type": "code",
   "execution_count": null,
   "metadata": {},
   "outputs": [],
   "source": [
    "import folium\n",
    "from asltam.io.pricedist import get_index\n",
    "\n",
    "start = 'SETE'\n",
    "target = 'PERPIGNAN NORD'\n",
    "m = atm.trajet(start, target, geo, prix, dist , \n",
    "               '5b3ce3597851110001cf62486f5564a064e34f3895221e5a0d9a2405')\n",
    "\n",
    "g, opt = atm.kmin_cost_out(data_dist=dist, data_price=prix,\n",
    "                          start = start, target = target, \n",
    "                          k = 4)\n",
    "# intégrons ces résultats dans la carte m (les données étant compatibles).\n",
    "for i in range(len(g)):\n",
    "    k = get_index(geo, g[i])\n",
    "    coor = list(geo.iloc[k])\n",
    "    folium.Marker(coor,\n",
    "    popup=g[i], \n",
    "    icon=folium.Icon(color='red', icon='car', prefix='fa')).add_to(m)\n",
    "\n",
    "print(f\"Coût du trajet : {opt}.\")"
   ]
  },
  {
   "cell_type": "code",
   "execution_count": null,
   "metadata": {},
   "outputs": [],
   "source": [
    "m"
   ]
  }
 ],
 "metadata": {
  "kernelspec": {
   "display_name": "Python 3",
   "language": "python",
   "name": "python3"
  },
  "language_info": {
   "codemirror_mode": {
    "name": "ipython",
    "version": 3
   },
   "file_extension": ".py",
   "mimetype": "text/x-python",
   "name": "python",
   "nbconvert_exporter": "python",
   "pygments_lexer": "ipython3",
   "version": "3.8.5"
  }
 },
 "nbformat": 4,
 "nbformat_minor": 4
}
